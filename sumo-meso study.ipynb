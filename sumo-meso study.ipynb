{
 "cells": [
  {
   "cell_type": "markdown",
   "metadata": {},
   "source": [
    "### Mesoscopic simulation model of SUMO"
   ]
  },
  {
   "cell_type": "code",
   "execution_count": 1,
   "metadata": {},
   "outputs": [],
   "source": [
    "import os,sys, subprocess\n",
    "import pandas as pd\n",
    "import numpy as np\n",
    "import matplotlib.pyplot as plt\n",
    "%matplotlib inline  \n",
    "if 'SUMO_HOME' in os.environ:\n",
    "    tools = os.path.join(os.environ['SUMO_HOME'], 'tools')\n",
    "    sys.path.append(tools)\n",
    "else:\n",
    "    sys.exit(\"please declare environment variable 'SUMO_HOME'\")\n",
    "import sumolib"
   ]
  },
  {
   "cell_type": "markdown",
   "metadata": {},
   "source": [
    "### Step 1: create a network from node and edge file"
   ]
  },
  {
   "cell_type": "code",
   "execution_count": 55,
   "metadata": {},
   "outputs": [],
   "source": [
    "with open('nodes.xml','w') as file:\n",
    "    file.write('<nodes> \\n')\n",
    "    file.write('<node id=\"0\" x=\"-200.0\" y=\"0.0\" /> \\n')\n",
    "    file.write('<node id=\"1\" x=\"0.0\" y=\"0.0\" /> \\n')\n",
    "    file.write('<node id=\"2\" x=\"400.0\" y=\"0.0\" /> \\n')\n",
    "    file.write('<node id=\"3\" x=\"400.0\" y=\"100.0\" /> \\n')\n",
    "    file.write('<node id=\"4\" x=\"400.0\" y=\"-100.0\" /> \\n')\n",
    "    file.write('<node id=\"5\" x=\"300.0\" y=\"0.0\" /> \\n')\n",
    "    file.write('</nodes>')\n",
    "    file.close()"
   ]
  },
  {
   "cell_type": "code",
   "execution_count": 56,
   "metadata": {},
   "outputs": [],
   "source": [
    "with open('edges.xml','w') as file:\n",
    "    file.write('<edges> \\n')\n",
    "    file.write('<edge from=\"0\" id=\"origin\" to=\"1\" /> \\n')\n",
    "    file.write('<edge from=\"1\" id=\"center\" to=\"5\" /> \\n')\n",
    "    file.write('<edge from=\"5\" id=\"tls\" to=\"2\" /> \\n')\n",
    "    file.write('<edge from=\"2\" id=\"left\" to=\"3\" /> \\n')\n",
    "    file.write('<edge from=\"2\" id=\"right\" to=\"4\" /> \\n')\n",
    "    file.write('<edge from=\"4\" id=\"right_u\" to=\"2\" /> \\n')\n",
    "    file.write('<edge from=\"3\" id=\"left_d\" to=\"2\" /> \\n')\n",
    "    file.write('</edges>')    "
   ]
  },
  {
   "cell_type": "code",
   "execution_count": 58,
   "metadata": {},
   "outputs": [
    {
     "data": {
      "text/plain": [
       "0"
      ]
     },
     "execution_count": 58,
     "metadata": {},
     "output_type": "execute_result"
    }
   ],
   "source": [
    "os.system('netconvert --node-files=nodes.xml --edge-files=edges.xml --output-file=net.net.xml --no-internal-links \\\n",
    "--tls.set 2 --tls.yellow.time -1 --tls.cycle.time 60')"
   ]
  },
  {
   "cell_type": "markdown",
   "metadata": {},
   "source": [
    "### Step 2: additional files to record data"
   ]
  },
  {
   "cell_type": "code",
   "execution_count": 23,
   "metadata": {},
   "outputs": [],
   "source": [
    "with open('additional.add.xml','w') as file:\n",
    "    file.write('<additional> \\n')\n",
    "    file.write('<edgeData id=\"ed1\" file=\"output/edgeData.xml\" freq=\"300\" begin=\"0\" end=\"7200\" excludeEmpty=\"FALSE\" /> \\n')\n",
    "    file.write('<laneData id=\"la1\" file=\"output/laneData.xml\" freq=\"300\" begin=\"0\" end=\"7200\" excludeEmpty=\"FALSE\" /> \\n')\n",
    "    file.write('</additional>')\n",
    "    "
   ]
  },
  {
   "cell_type": "markdown",
   "metadata": {},
   "source": [
    "### Step 3: generate demand"
   ]
  },
  {
   "cell_type": "code",
   "execution_count": 45,
   "metadata": {},
   "outputs": [],
   "source": [
    "with open('routes.rou.xml','w') as file:\n",
    "    file.write('<routes> \\n')\n",
    "    file.write('<vType carFollowModel=\"Krauss\" accel=\"2.6\" decel=\"4.5\" id=\"passenger\" length=\"5.0\" maxSpeed=\"50.0\" sigma=\"0.0\" /> \\n')          \n",
    "    file.write('<flow id=\"f1r\" type=\"passenger\" begin=\"0\" end=\"900\" number=\"100\" from=\"origin\" to=\"right\"/> \\n')\n",
    "    file.write('<flow id=\"f1l\" type=\"passenger\" begin=\"0\" end=\"900\" number=\"100\" from=\"origin\" to=\"left\"/> \\n')\n",
    "    file.write('<flow id=\"f2r\" type=\"passenger\" begin=\"900\" end=\"1800\" number=\"200\" from=\"origin\" to=\"right\"/> \\n')\n",
    "    file.write('<flow id=\"f2l\" type=\"passenger\" begin=\"900\" end=\"1800\" number=\"200\" from=\"origin\" to=\"left\"/> \\n')\n",
    "    file.write('<flow id=\"f3r\" type=\"passenger\" begin=\"1800\" end=\"2700\" number=\"400\" from=\"origin\" to=\"right\"/> \\n')\n",
    "    file.write('<flow id=\"f3l\" type=\"passenger\" begin=\"1800\" end=\"2700\" number=\"400\" from=\"origin\" to=\"left\"/> \\n')\n",
    "    file.write('<flow id=\"f4r\" type=\"passenger\" begin=\"2700\" end=\"3600\" number=\"500\" from=\"origin\" to=\"right\"/> \\n')\n",
    "    file.write('<flow id=\"f4l\" type=\"passenger\" begin=\"2700\" end=\"3600\" number=\"500\" from=\"origin\" to=\"left\"/> \\n')\n",
    "    file.write('</routes>')"
   ]
  },
  {
   "cell_type": "code",
   "execution_count": 108,
   "metadata": {},
   "outputs": [],
   "source": [
    "with open('routes.rou.xml','w') as file:\n",
    "    file.write('<routes> \\n')\n",
    "    file.write('<vType carFollowModel=\"Krauss\" accel=\"2.6\" decel=\"4.5\" id=\"passenger\" length=\"5.0\" maxSpeed=\"50.0\" sigma=\"0.0\" /> \\n')          \n",
    "    for i in [0,900,1800,2700,3600,4500,5400,6300,7200,8100,9000,9900,10800]:\n",
    "        file.write('<flow id=\"fr{}\" type=\"passenger\" begin=\"{}\" end=\"{}\" number=\"{}\" from=\"origin\" to=\"right\"/> \\n'.\\\n",
    "                   format(i,i,i+900,int(i/900*60+50)))\n",
    "        file.write('<flow id=\"fl{}\" type=\"passenger\" begin=\"{}\" end=\"{}\" number=\"{}\" from=\"origin\" to=\"right\"/> \\n'.\\\n",
    "                   format(i,i,i+900,int(i/900*60+50)))\n",
    "    file.write('</routes>')"
   ]
  },
  {
   "cell_type": "markdown",
   "metadata": {},
   "source": [
    "### Step 4: run simulation"
   ]
  },
  {
   "cell_type": "code",
   "execution_count": 89,
   "metadata": {},
   "outputs": [],
   "source": [
    "meso_edge_length = 300\n",
    "meso_jam_threshold = -1\n",
    "tau_ff = 1.4\n",
    "tau_fj = 1.4\n",
    "tau_jf = 1.7\n",
    "tau_jj = 2.0\n",
    "tls_penalty = 0.5\n"
   ]
  },
  {
   "cell_type": "code",
   "execution_count": 109,
   "metadata": {},
   "outputs": [
    {
     "data": {
      "text/plain": [
       "0"
      ]
     },
     "execution_count": 109,
     "metadata": {},
     "output_type": "execute_result"
    }
   ],
   "source": [
    "os.system('sumo -n net.net.xml -r routes.rou.xml -b 0 -e 12000 -a additional.add.xml -S -Q --mesosim \\\n",
    "--meso-edgelength {} --meso-jam-threshold {} --meso-tauff {} --meso-taufj {} --meso-taujf {} --meso-taujj {} \\\n",
    "--meso-tls-penalty {}'.format(meso_edge_length,meso_jam_threshold,tau_ff,tau_fj,tau_jf,tau_jj,tls_penalty))"
   ]
  },
  {
   "cell_type": "markdown",
   "metadata": {},
   "source": [
    "### Step 5: plot the FD"
   ]
  },
  {
   "cell_type": "code",
   "execution_count": 110,
   "metadata": {},
   "outputs": [
    {
     "data": {
      "text/plain": [
       "0"
      ]
     },
     "execution_count": 110,
     "metadata": {},
     "output_type": "execute_result"
    }
   ],
   "source": [
    "os.system('python \"C:/Program Files (x86)/Eclipse/Sumo/tools/xml/xml2csv.py\" \"output/edgeData.xml\" -o output/edge.csv')"
   ]
  },
  {
   "cell_type": "code",
   "execution_count": 111,
   "metadata": {},
   "outputs": [
    {
     "data": {
      "text/html": [
       "<div>\n",
       "<style scoped>\n",
       "    .dataframe tbody tr th:only-of-type {\n",
       "        vertical-align: middle;\n",
       "    }\n",
       "\n",
       "    .dataframe tbody tr th {\n",
       "        vertical-align: top;\n",
       "    }\n",
       "\n",
       "    .dataframe thead th {\n",
       "        text-align: right;\n",
       "    }\n",
       "</style>\n",
       "<table border=\"1\" class=\"dataframe\">\n",
       "  <thead>\n",
       "    <tr style=\"text-align: right;\">\n",
       "      <th></th>\n",
       "      <th>interval_begin</th>\n",
       "      <th>interval_end</th>\n",
       "      <th>interval_id</th>\n",
       "      <th>edge_arrived</th>\n",
       "      <th>edge_density</th>\n",
       "      <th>edge_departed</th>\n",
       "      <th>edge_entered</th>\n",
       "      <th>edge_id</th>\n",
       "      <th>edge_laneChangedFrom</th>\n",
       "      <th>edge_laneChangedTo</th>\n",
       "      <th>edge_laneDensity</th>\n",
       "      <th>edge_left</th>\n",
       "      <th>edge_occupancy</th>\n",
       "      <th>edge_overlapTraveltime</th>\n",
       "      <th>edge_sampledSeconds</th>\n",
       "      <th>edge_speed</th>\n",
       "      <th>edge_traveltime</th>\n",
       "      <th>edge_waitingTime</th>\n",
       "    </tr>\n",
       "  </thead>\n",
       "  <tbody>\n",
       "    <tr>\n",
       "      <th>0</th>\n",
       "      <td>0.0</td>\n",
       "      <td>300.0</td>\n",
       "      <td>ed1</td>\n",
       "      <td>0</td>\n",
       "      <td>7.90</td>\n",
       "      <td>0</td>\n",
       "      <td>32</td>\n",
       "      <td>center</td>\n",
       "      <td>0</td>\n",
       "      <td>0</td>\n",
       "      <td>7.90</td>\n",
       "      <td>30</td>\n",
       "      <td>3.95</td>\n",
       "      <td>22.80</td>\n",
       "      <td>711.21</td>\n",
       "      <td>13.38</td>\n",
       "      <td>22.43</td>\n",
       "      <td>0.0</td>\n",
       "    </tr>\n",
       "    <tr>\n",
       "      <th>1</th>\n",
       "      <td>0.0</td>\n",
       "      <td>300.0</td>\n",
       "      <td>ed1</td>\n",
       "      <td>0</td>\n",
       "      <td>NaN</td>\n",
       "      <td>0</td>\n",
       "      <td>0</td>\n",
       "      <td>left</td>\n",
       "      <td>0</td>\n",
       "      <td>0</td>\n",
       "      <td>NaN</td>\n",
       "      <td>0</td>\n",
       "      <td>NaN</td>\n",
       "      <td>NaN</td>\n",
       "      <td>0.00</td>\n",
       "      <td>NaN</td>\n",
       "      <td>NaN</td>\n",
       "      <td>NaN</td>\n",
       "    </tr>\n",
       "    <tr>\n",
       "      <th>2</th>\n",
       "      <td>0.0</td>\n",
       "      <td>300.0</td>\n",
       "      <td>ed1</td>\n",
       "      <td>0</td>\n",
       "      <td>NaN</td>\n",
       "      <td>0</td>\n",
       "      <td>0</td>\n",
       "      <td>left_d</td>\n",
       "      <td>0</td>\n",
       "      <td>0</td>\n",
       "      <td>NaN</td>\n",
       "      <td>0</td>\n",
       "      <td>NaN</td>\n",
       "      <td>NaN</td>\n",
       "      <td>0.00</td>\n",
       "      <td>NaN</td>\n",
       "      <td>NaN</td>\n",
       "      <td>NaN</td>\n",
       "    </tr>\n",
       "    <tr>\n",
       "      <th>3</th>\n",
       "      <td>0.0</td>\n",
       "      <td>300.0</td>\n",
       "      <td>ed1</td>\n",
       "      <td>0</td>\n",
       "      <td>8.64</td>\n",
       "      <td>34</td>\n",
       "      <td>0</td>\n",
       "      <td>origin</td>\n",
       "      <td>0</td>\n",
       "      <td>0</td>\n",
       "      <td>8.64</td>\n",
       "      <td>32</td>\n",
       "      <td>4.32</td>\n",
       "      <td>15.88</td>\n",
       "      <td>518.12</td>\n",
       "      <td>12.91</td>\n",
       "      <td>15.49</td>\n",
       "      <td>0.0</td>\n",
       "    </tr>\n",
       "    <tr>\n",
       "      <th>4</th>\n",
       "      <td>0.0</td>\n",
       "      <td>300.0</td>\n",
       "      <td>ed1</td>\n",
       "      <td>28</td>\n",
       "      <td>7.15</td>\n",
       "      <td>0</td>\n",
       "      <td>29</td>\n",
       "      <td>right</td>\n",
       "      <td>0</td>\n",
       "      <td>0</td>\n",
       "      <td>7.15</td>\n",
       "      <td>0</td>\n",
       "      <td>3.58</td>\n",
       "      <td>7.83</td>\n",
       "      <td>214.53</td>\n",
       "      <td>13.42</td>\n",
       "      <td>7.45</td>\n",
       "      <td>0.0</td>\n",
       "    </tr>\n",
       "  </tbody>\n",
       "</table>\n",
       "</div>"
      ],
      "text/plain": [
       "   interval_begin  interval_end interval_id  edge_arrived  edge_density  \\\n",
       "0             0.0         300.0         ed1             0          7.90   \n",
       "1             0.0         300.0         ed1             0           NaN   \n",
       "2             0.0         300.0         ed1             0           NaN   \n",
       "3             0.0         300.0         ed1             0          8.64   \n",
       "4             0.0         300.0         ed1            28          7.15   \n",
       "\n",
       "   edge_departed  edge_entered edge_id  edge_laneChangedFrom  \\\n",
       "0              0            32  center                     0   \n",
       "1              0             0    left                     0   \n",
       "2              0             0  left_d                     0   \n",
       "3             34             0  origin                     0   \n",
       "4              0            29   right                     0   \n",
       "\n",
       "   edge_laneChangedTo  edge_laneDensity  edge_left  edge_occupancy  \\\n",
       "0                   0              7.90         30            3.95   \n",
       "1                   0               NaN          0             NaN   \n",
       "2                   0               NaN          0             NaN   \n",
       "3                   0              8.64         32            4.32   \n",
       "4                   0              7.15          0            3.58   \n",
       "\n",
       "   edge_overlapTraveltime  edge_sampledSeconds  edge_speed  edge_traveltime  \\\n",
       "0                   22.80               711.21       13.38            22.43   \n",
       "1                     NaN                 0.00         NaN              NaN   \n",
       "2                     NaN                 0.00         NaN              NaN   \n",
       "3                   15.88               518.12       12.91            15.49   \n",
       "4                    7.83               214.53       13.42             7.45   \n",
       "\n",
       "   edge_waitingTime  \n",
       "0               0.0  \n",
       "1               NaN  \n",
       "2               NaN  \n",
       "3               0.0  \n",
       "4               0.0  "
      ]
     },
     "execution_count": 111,
     "metadata": {},
     "output_type": "execute_result"
    }
   ],
   "source": [
    "edge_data = pd.read_csv('output/edge.csv',delimiter=\";\")\n",
    "edge_data.head()"
   ]
  },
  {
   "cell_type": "code",
   "execution_count": 112,
   "metadata": {},
   "outputs": [
    {
     "data": {
      "text/html": [
       "<div>\n",
       "<style scoped>\n",
       "    .dataframe tbody tr th:only-of-type {\n",
       "        vertical-align: middle;\n",
       "    }\n",
       "\n",
       "    .dataframe tbody tr th {\n",
       "        vertical-align: top;\n",
       "    }\n",
       "\n",
       "    .dataframe thead th {\n",
       "        text-align: right;\n",
       "    }\n",
       "</style>\n",
       "<table border=\"1\" class=\"dataframe\">\n",
       "  <thead>\n",
       "    <tr style=\"text-align: right;\">\n",
       "      <th></th>\n",
       "      <th>interval_begin</th>\n",
       "      <th>edge_id</th>\n",
       "      <th>edge_density</th>\n",
       "      <th>edge_occupancy</th>\n",
       "      <th>edge_sampledSeconds</th>\n",
       "      <th>edge_speed</th>\n",
       "      <th>edge_traveltime</th>\n",
       "      <th>edge_flow</th>\n",
       "    </tr>\n",
       "  </thead>\n",
       "  <tbody>\n",
       "    <tr>\n",
       "      <th>0</th>\n",
       "      <td>0.0</td>\n",
       "      <td>center</td>\n",
       "      <td>7.90</td>\n",
       "      <td>3.95</td>\n",
       "      <td>711.21</td>\n",
       "      <td>13.38</td>\n",
       "      <td>22.43</td>\n",
       "      <td>381.0</td>\n",
       "    </tr>\n",
       "    <tr>\n",
       "      <th>7</th>\n",
       "      <td>300.0</td>\n",
       "      <td>center</td>\n",
       "      <td>8.06</td>\n",
       "      <td>4.03</td>\n",
       "      <td>725.01</td>\n",
       "      <td>13.60</td>\n",
       "      <td>22.07</td>\n",
       "      <td>395.0</td>\n",
       "    </tr>\n",
       "    <tr>\n",
       "      <th>14</th>\n",
       "      <td>600.0</td>\n",
       "      <td>center</td>\n",
       "      <td>8.23</td>\n",
       "      <td>4.11</td>\n",
       "      <td>740.49</td>\n",
       "      <td>13.58</td>\n",
       "      <td>22.09</td>\n",
       "      <td>402.0</td>\n",
       "    </tr>\n",
       "    <tr>\n",
       "      <th>21</th>\n",
       "      <td>900.0</td>\n",
       "      <td>center</td>\n",
       "      <td>17.32</td>\n",
       "      <td>8.66</td>\n",
       "      <td>1558.58</td>\n",
       "      <td>13.37</td>\n",
       "      <td>22.43</td>\n",
       "      <td>834.0</td>\n",
       "    </tr>\n",
       "    <tr>\n",
       "      <th>28</th>\n",
       "      <td>1200.0</td>\n",
       "      <td>center</td>\n",
       "      <td>18.42</td>\n",
       "      <td>9.21</td>\n",
       "      <td>1657.62</td>\n",
       "      <td>13.28</td>\n",
       "      <td>22.60</td>\n",
       "      <td>881.0</td>\n",
       "    </tr>\n",
       "  </tbody>\n",
       "</table>\n",
       "</div>"
      ],
      "text/plain": [
       "    interval_begin edge_id  edge_density  edge_occupancy  edge_sampledSeconds  \\\n",
       "0              0.0  center          7.90            3.95               711.21   \n",
       "7            300.0  center          8.06            4.03               725.01   \n",
       "14           600.0  center          8.23            4.11               740.49   \n",
       "21           900.0  center         17.32            8.66              1558.58   \n",
       "28          1200.0  center         18.42            9.21              1657.62   \n",
       "\n",
       "    edge_speed  edge_traveltime  edge_flow  \n",
       "0        13.38            22.43      381.0  \n",
       "7        13.60            22.07      395.0  \n",
       "14       13.58            22.09      402.0  \n",
       "21       13.37            22.43      834.0  \n",
       "28       13.28            22.60      881.0  "
      ]
     },
     "execution_count": 112,
     "metadata": {},
     "output_type": "execute_result"
    }
   ],
   "source": [
    "ed = edge_data[['interval_begin','edge_id','edge_density','edge_occupancy','edge_sampledSeconds','edge_speed','edge_traveltime']]\n",
    "ed = ed[ed['edge_id']=='center']\n",
    "ed['edge_flow']=round(ed['edge_density']*ed['edge_speed']*3.6)\n",
    "ed.head()"
   ]
  },
  {
   "cell_type": "code",
   "execution_count": 113,
   "metadata": {},
   "outputs": [
    {
     "data": {
      "image/png": "[encoded data removed]",
      "text/plain": [
       "<Figure size 432x288 with 1 Axes>"
      ]
     },
     "metadata": {
      "needs_background": "light"
     },
     "output_type": "display_data"
    }
   ],
   "source": [
    "plt.scatter(ed['edge_density'],ed['edge_flow'],c=\"grey\")\n",
    "plt.xlim(0,200)\n",
    "plt.ylim(0,2500)\n",
    "plt.xlabel('density (veh/km)')\n",
    "plt.ylabel('flow (veh/h)')\n",
    "plt.show()"
   ]
  },
  {
   "cell_type": "code",
   "execution_count": null,
   "metadata": {},
   "outputs": [],
   "source": []
  }
 ],
 "metadata": {
  "kernelspec": {
   "display_name": "Python 3",
   "language": "python",
   "name": "python3"
  },
  "language_info": {
   "codemirror_mode": {
    "name": "ipython",
    "version": 3
   },
   "file_extension": ".py",
   "mimetype": "text/x-python",
   "name": "python",
   "nbconvert_exporter": "python",
   "pygments_lexer": "ipython3",
   "version": "3.6.10"
  }
 },
 "nbformat": 4,
 "nbformat_minor": 4
}
