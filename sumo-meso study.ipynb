{
 "cells": [
  {
   "cell_type": "markdown",
   "metadata": {},
   "source": [
    "### Mesoscopic simulation model of SUMO"
   ]
  },
  {
   "cell_type": "code",
   "execution_count": 1,
   "metadata": {},
   "outputs": [],
   "source": [
    "import os,sys, subprocess\n",
    "import pandas as pd\n",
    "import numpy as np\n",
    "import matplotlib.pyplot as plt\n",
    "%matplotlib inline  \n",
    "if 'SUMO_HOME' in os.environ:\n",
    "    tools = os.path.join(os.environ['SUMO_HOME'], 'tools')\n",
    "    sys.path.append(tools)\n",
    "else:\n",
    "    sys.exit(\"please declare environment variable 'SUMO_HOME'\")\n",
    "import sumolib"
   ]
  },
  {
   "cell_type": "markdown",
   "metadata": {},
   "source": [
    "### Step 1: create a network from node and edge file"
   ]
  },
  {
   "cell_type": "code",
   "execution_count": 55,
   "metadata": {},
   "outputs": [],
   "source": [
    "with open('nodes.xml','w') as file:\n",
    "    file.write('<nodes> \\n')\n",
    "    file.write('<node id=\"0\" x=\"-200.0\" y=\"0.0\" /> \\n')\n",
    "    file.write('<node id=\"1\" x=\"0.0\" y=\"0.0\" /> \\n')\n",
    "    file.write('<node id=\"2\" x=\"400.0\" y=\"0.0\" /> \\n')\n",
    "    file.write('<node id=\"3\" x=\"400.0\" y=\"100.0\" /> \\n')\n",
    "    file.write('<node id=\"4\" x=\"400.0\" y=\"-100.0\" /> \\n')\n",
    "    file.write('<node id=\"5\" x=\"300.0\" y=\"0.0\" /> \\n')\n",
    "    file.write('</nodes>')\n",
    "    file.close()"
   ]
  },
  {
   "cell_type": "code",
   "execution_count": 56,
   "metadata": {},
   "outputs": [],
   "source": [
    "with open('edges.xml','w') as file:\n",
    "    file.write('<edges> \\n')\n",
    "    file.write('<edge from=\"0\" id=\"origin\" to=\"1\" /> \\n')\n",
    "    file.write('<edge from=\"1\" id=\"center\" to=\"5\" /> \\n')\n",
    "    file.write('<edge from=\"5\" id=\"tls\" to=\"2\" /> \\n')\n",
    "    file.write('<edge from=\"2\" id=\"left\" to=\"3\" /> \\n')\n",
    "    file.write('<edge from=\"2\" id=\"right\" to=\"4\" /> \\n')\n",
    "    file.write('<edge from=\"4\" id=\"right_u\" to=\"2\" /> \\n')\n",
    "    file.write('<edge from=\"3\" id=\"left_d\" to=\"2\" /> \\n')\n",
    "    file.write('</edges>')    "
   ]
  },
  {
   "cell_type": "code",
   "execution_count": 58,
   "metadata": {},
   "outputs": [
    {
     "data": {
      "text/plain": [
       "0"
      ]
     },
     "execution_count": 58,
     "metadata": {},
     "output_type": "execute_result"
    }
   ],
   "source": [
    "os.system('netconvert --node-files=nodes.xml --edge-files=edges.xml --output-file=net.net.xml --no-internal-links \\\n",
    "--tls.set 2 --tls.yellow.time -1 --tls.cycle.time 60')"
   ]
  },
  {
   "cell_type": "markdown",
   "metadata": {},
   "source": [
    "### Step 2: additional files to record data"
   ]
  },
  {
   "cell_type": "code",
   "execution_count": 23,
   "metadata": {},
   "outputs": [],
   "source": [
    "with open('additional.add.xml','w') as file:\n",
    "    file.write('<additional> \\n')\n",
    "    file.write('<edgeData id=\"ed1\" file=\"output/edgeData.xml\" freq=\"300\" begin=\"0\" end=\"7200\" excludeEmpty=\"FALSE\" /> \\n')\n",
    "    file.write('<laneData id=\"la1\" file=\"output/laneData.xml\" freq=\"300\" begin=\"0\" end=\"7200\" excludeEmpty=\"FALSE\" /> \\n')\n",
    "    file.write('</additional>')\n",
    "    "
   ]
  },
  {
   "cell_type": "markdown",
   "metadata": {},
   "source": [
    "### Step 3: generate demand"
   ]
  },
  {
   "cell_type": "code",
   "execution_count": 45,
   "metadata": {},
   "outputs": [],
   "source": [
    "with open('routes.rou.xml','w') as file:\n",
    "    file.write('<routes> \\n')\n",
    "    file.write('<vType carFollowModel=\"Krauss\" accel=\"2.6\" decel=\"4.5\" id=\"passenger\" length=\"5.0\" maxSpeed=\"50.0\" sigma=\"0.0\" /> \\n')          \n",
    "    file.write('<flow id=\"f1r\" type=\"passenger\" begin=\"0\" end=\"900\" number=\"100\" from=\"origin\" to=\"right\"/> \\n')\n",
    "    file.write('<flow id=\"f1l\" type=\"passenger\" begin=\"0\" end=\"900\" number=\"100\" from=\"origin\" to=\"left\"/> \\n')\n",
    "    file.write('<flow id=\"f2r\" type=\"passenger\" begin=\"900\" end=\"1800\" number=\"200\" from=\"origin\" to=\"right\"/> \\n')\n",
    "    file.write('<flow id=\"f2l\" type=\"passenger\" begin=\"900\" end=\"1800\" number=\"200\" from=\"origin\" to=\"left\"/> \\n')\n",
    "    file.write('<flow id=\"f3r\" type=\"passenger\" begin=\"1800\" end=\"2700\" number=\"400\" from=\"origin\" to=\"right\"/> \\n')\n",
    "    file.write('<flow id=\"f3l\" type=\"passenger\" begin=\"1800\" end=\"2700\" number=\"400\" from=\"origin\" to=\"left\"/> \\n')\n",
    "    file.write('<flow id=\"f4r\" type=\"passenger\" begin=\"2700\" end=\"3600\" number=\"500\" from=\"origin\" to=\"right\"/> \\n')\n",
    "    file.write('<flow id=\"f4l\" type=\"passenger\" begin=\"2700\" end=\"3600\" number=\"500\" from=\"origin\" to=\"left\"/> \\n')\n",
    "    file.write('</routes>')"
   ]
  },
  {
   "cell_type": "code",
   "execution_count": 114,
   "metadata": {},
   "outputs": [],
   "source": [
    "with open('routes.rou.xml','w') as file:\n",
    "    file.write('<routes> \\n')\n",
    "    file.write('<vType carFollowModel=\"Krauss\" accel=\"2.6\" decel=\"4.5\" id=\"passenger\" length=\"5.0\" maxSpeed=\"50.0\" \\\n",
    "    sigma=\"0.0\" tau=\"2\" minGap=\"1.5\"/> \\n')          \n",
    "    for i in [0,900,1800,2700,3600,4500,5400,6300,7200,8100,9000,9900,10800]:\n",
    "        file.write('<flow id=\"fr{}\" type=\"passenger\" begin=\"{}\" end=\"{}\" number=\"{}\" from=\"origin\" to=\"right\"/> \\n'.\\\n",
    "                   format(i,i,i+900,int(i/900*60+50)))\n",
    "        file.write('<flow id=\"fl{}\" type=\"passenger\" begin=\"{}\" end=\"{}\" number=\"{}\" from=\"origin\" to=\"right\"/> \\n'.\\\n",
    "                   format(i,i,i+900,int(i/900*60+50)))\n",
    "    file.write('</routes>')"
   ]
  },
  {
   "cell_type": "markdown",
   "metadata": {},
   "source": [
    "### Step 4: run simulation and plot FD"
   ]
  },
  {
   "cell_type": "code",
   "execution_count": 239,
   "metadata": {},
   "outputs": [],
   "source": [
    "def runSUMO(meso_edge_length,meso_jam_threshold,tau_ff,tau_fj,tau_jf,tau_jj,tls_penalty):\n",
    "    os.system('sumo -n net.net.xml -r routes.rou.xml -b 0 -e 12000 -a additional.add.xml -S -Q --mesosim \\\n",
    "--meso-edgelength {} --meso-jam-threshold {} --meso-tauff {} --meso-taufj {} --meso-taujf {} --meso-taujj {} \\\n",
    "--meso-tls-penalty {}'.format(meso_edge_length,meso_jam_threshold,tau_ff,tau_fj,tau_jf,tau_jj,tls_penalty))\n",
    "    os.system('python \"C:/Program Files (x86)/Eclipse/Sumo/tools/xml/xml2csv.py\" \"output/edgeData.xml\" -o output/edge.csv')\n",
    "    edge_data = pd.read_csv('output/edge.csv',delimiter=\";\")\n",
    "    ed = edge_data[['interval_begin','edge_id','edge_density','edge_occupancy','edge_sampledSeconds','edge_speed','edge_traveltime']]\n",
    "    ed = ed[ed['edge_id']=='center']\n",
    "    ed['edge_flow']=round(ed['edge_density']*ed['edge_speed']*3.6)\n",
    "    return ed\n",
    "    "
   ]
  },
  {
   "cell_type": "code",
   "execution_count": 247,
   "metadata": {},
   "outputs": [],
   "source": [
    "def plot_fd(edge_data,x_axis,y_axis,xlim,ylim):\n",
    "    fig,p = plt.subplots()\n",
    "    p.plot(edge_data[x_axis],edge_data[y_axis],'-o',c=\"grey\",alpha=0.8)\n",
    "    p.set_xlim(0,xlim)\n",
    "    p.set_ylim(0,ylim)\n",
    "    p.set_xlabel('density (veh/km)')\n",
    "    p.set_ylabel('flow (veh/h)')\n",
    "    return fig"
   ]
  },
  {
   "cell_type": "code",
   "execution_count": null,
   "metadata": {},
   "outputs": [],
   "source": []
  },
  {
   "cell_type": "code",
   "execution_count": 234,
   "metadata": {},
   "outputs": [
    {
     "data": {
      "image/png": "[encoded data removed]",
      "text/plain": [
       "<Figure size 432x288 with 1 Axes>"
      ]
     },
     "metadata": {
      "needs_background": "light"
     },
     "output_type": "display_data"
    }
   ],
   "source": [
    "p=plot_fd(x,'edge_density','edge_flow')"
   ]
  },
  {
   "cell_type": "markdown",
   "metadata": {},
   "source": [
    "### Step 5: scenario "
   ]
  },
  {
   "cell_type": "code",
   "execution_count": 235,
   "metadata": {},
   "outputs": [],
   "source": [
    "meso_edge_length = 500\n",
    "meso_jam_threshold = -1\n",
    "tau_ff = 1.4\n",
    "tau_fj = 1.4\n",
    "tau_jf = 1.4\n",
    "tau_jj = 1.4\n",
    "tls_penalty = 0.5"
   ]
  },
  {
   "cell_type": "code",
   "execution_count": 236,
   "metadata": {},
   "outputs": [],
   "source": [
    "sc1=runSUMO(meso_edge_length,meso_jam_threshold,tau_ff,tau_fj,tau_jf,tau_jj,tls_penalty)"
   ]
  },
  {
   "cell_type": "code",
   "execution_count": 248,
   "metadata": {},
   "outputs": [
    {
     "data": {
      "image/png": "[encoded data removed]",
      "text/plain": [
       "<Figure size 432x288 with 1 Axes>"
      ]
     },
     "execution_count": 248,
     "metadata": {},
     "output_type": "execute_result"
    },
    {
     "data": {
      "image/png": "[encoded data removed]",
      "text/plain": [
       "<Figure size 432x288 with 1 Axes>"
      ]
     },
     "metadata": {
      "needs_background": "light"
     },
     "output_type": "display_data"
    }
   ],
   "source": [
    "plot_fd(sc1,'edge_density','edge_flow',200,2000)"
   ]
  }
 ],
 "metadata": {
  "kernelspec": {
   "display_name": "Python 3",
   "language": "python",
   "name": "python3"
  },
  "language_info": {
   "codemirror_mode": {
    "name": "ipython",
    "version": 3
   },
   "file_extension": ".py",
   "mimetype": "text/x-python",
   "name": "python",
   "nbconvert_exporter": "python",
   "pygments_lexer": "ipython3",
   "version": "3.6.10"
  }
 },
 "nbformat": 4,
 "nbformat_minor": 4
}
